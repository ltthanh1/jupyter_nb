{
 "cells": [
  {
   "cell_type": "code",
   "execution_count": null,
   "id": "754a7c5d-b20b-426e-9586-4047af263d11",
   "metadata": {},
   "outputs": [],
   "source": [
    "import re\n",
    "import functools\n",
    "import numpy as np\n",
    "from pyspark import SparkContext\n",
    "sc = SparkContext.getOrCreate();\n",
    "rdd = sc.textFile(\"integers_file_1.txt\")\n",
    "\n",
    "delimiters = '#-.;\"!^&%'+\"@'wad, \"\n",
    "\n",
    "# Sử dụng re.split() để tách chuỗi thành các phần tử số và các cụm dấu giữa hai số\n",
    "split_pattern = \"[\" + re.escape(delimiters) + \"]+\"\n",
    "numbers_and_clusters = re.split(split_pattern, ''.join(rdd.collect()))\n",
    "# b = sc.parallelize(numbers_and_clusters,10).glom().collect()\n",
    "rdd0 = sc.parallelize(numbers_and_clusters);\n",
    "for n in rdd0.collect():\n",
    "    rdd0.collect().remove('')\n",
    "    \n",
    "rdd1, rdd2,rdd3,rdd4,rdd5,rdd6,rdd7,rdd8,rdd9,rdd10= rdd0.randomSplit([0.1, 0.1, 0.1, 0.1, 0.1, 0.1, 0.1, 0.1, 0.1, 0.1])\n",
    "        \n",
    "arr0 = []\n",
    "arrA= [] \n",
    "arrMax= []\n",
    "arr0.append([rdd1.collect(),rdd2.collect(),rdd3.collect(),rdd4.collect(),rdd5.collect(),rdd6.collect(),rdd7.collect(),rdd8.collect(),rdd9.collect(),rdd10.collect()])\n",
    "max=0\n",
    "for index, a in enumerate(arr0):\n",
    "    if index == 0:\n",
    "        arrA= a\n",
    "for b in (arrA):\n",
    "    arrMax.append(functools.reduce(lambda x, y: x if x > y else y, b))\n",
    "print (arrMax)\n",
    "max = functools.reduce(lambda m, n: m if m > n else n, arrMax)\n",
    "print (max)\n",
    "\n",
    "sumAll = functools.reduce(lambda x, y: int(x)+int(y),rdd0.collect())\n",
    "avgAll = sumAll/len(rdd0.collect())\n",
    "# print(rdd0.collect())\n",
    "print(avgAll)\n"
   ]
  },
  {
   "cell_type": "code",
   "execution_count": null,
   "id": "354b2ec6-8ef9-45cd-babb-ccbbc7da19ec",
   "metadata": {},
   "outputs": [],
   "source": []
  }
 ],
 "metadata": {
  "kernelspec": {
   "display_name": "Python 3 (ipykernel)",
   "language": "python",
   "name": "python3"
  },
  "language_info": {
   "codemirror_mode": {
    "name": "ipython",
    "version": 3
   },
   "file_extension": ".py",
   "mimetype": "text/x-python",
   "name": "python",
   "nbconvert_exporter": "python",
   "pygments_lexer": "ipython3",
   "version": "3.11.5"
  }
 },
 "nbformat": 4,
 "nbformat_minor": 5
}
